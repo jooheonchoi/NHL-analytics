{
 "cells": [
  {
   "cell_type": "code",
   "execution_count": 1,
   "metadata": {},
   "outputs": [
    {
     "data": {
      "text/plain": [
       "'\\nNHL API: https://gitlab.com/dword4/nhlapi/-/tree/master\\n\\nMore info: \\n\\ninspirations:\\nhttps://towardsdatascience.com/nhl-analytics-with-python-6390c5d3206d\\nhttps://towardsdatascience.com/python-hockey-analytics-tutorial-b0883085938a#ee0a\\nhttps://github.com/rkipp1210/data-projects/tree/master/hockey-shot-blocking\\n'"
      ]
     },
     "execution_count": 1,
     "metadata": {},
     "output_type": "execute_result"
    }
   ],
   "source": [
    "import requests\n",
    "import numpy as np \n",
    "import pandas as pd \n",
    "import pickle    \n",
    "import matplotlib\n",
    "import matplotlib.pyplot as plt\n",
    "import seaborn as sns\n",
    "color_map = plt.cm.winter\n",
    "from matplotlib.patches import RegularPolygon\n",
    "import math\n",
    "from PIL import Image\n",
    "\n",
    "'''\n",
    "NHL API: https://gitlab.com/dword4/nhlapi/-/tree/master\n",
    "\n",
    "More info: \n",
    "\n",
    "inspirations:\n",
    "https://towardsdatascience.com/nhl-analytics-with-python-6390c5d3206d\n",
    "https://towardsdatascience.com/python-hockey-analytics-tutorial-b0883085938a#ee0a\n",
    "https://github.com/rkipp1210/data-projects/tree/master/hockey-shot-blocking\n",
    "'''"
   ]
  },
  {
   "cell_type": "code",
   "execution_count": 2,
   "metadata": {},
   "outputs": [
    {
     "data": {
      "text/html": [
       "<div>\n",
       "<style scoped>\n",
       "    .dataframe tbody tr th:only-of-type {\n",
       "        vertical-align: middle;\n",
       "    }\n",
       "\n",
       "    .dataframe tbody tr th {\n",
       "        vertical-align: top;\n",
       "    }\n",
       "\n",
       "    .dataframe thead th {\n",
       "        text-align: right;\n",
       "    }\n",
       "</style>\n",
       "<table border=\"1\" class=\"dataframe\">\n",
       "  <thead>\n",
       "    <tr style=\"text-align: right;\">\n",
       "      <th></th>\n",
       "      <th>id</th>\n",
       "      <th>name</th>\n",
       "      <th>link</th>\n",
       "      <th>abbreviation</th>\n",
       "      <th>teamName</th>\n",
       "      <th>locationName</th>\n",
       "      <th>firstYearOfPlay</th>\n",
       "      <th>shortName</th>\n",
       "      <th>officialSiteUrl</th>\n",
       "      <th>franchiseId</th>\n",
       "      <th>...</th>\n",
       "      <th>division.nameShort</th>\n",
       "      <th>division.link</th>\n",
       "      <th>division.abbreviation</th>\n",
       "      <th>conference.id</th>\n",
       "      <th>conference.name</th>\n",
       "      <th>conference.link</th>\n",
       "      <th>franchise.franchiseId</th>\n",
       "      <th>franchise.teamName</th>\n",
       "      <th>franchise.link</th>\n",
       "      <th>venue.id</th>\n",
       "    </tr>\n",
       "  </thead>\n",
       "  <tbody>\n",
       "    <tr>\n",
       "      <th>0</th>\n",
       "      <td>1</td>\n",
       "      <td>New Jersey Devils</td>\n",
       "      <td>/api/v1/teams/1</td>\n",
       "      <td>NJD</td>\n",
       "      <td>Devils</td>\n",
       "      <td>New Jersey</td>\n",
       "      <td>1982</td>\n",
       "      <td>New Jersey</td>\n",
       "      <td>http://www.newjerseydevils.com/</td>\n",
       "      <td>23</td>\n",
       "      <td>...</td>\n",
       "      <td>Metro</td>\n",
       "      <td>/api/v1/divisions/18</td>\n",
       "      <td>M</td>\n",
       "      <td>6</td>\n",
       "      <td>Eastern</td>\n",
       "      <td>/api/v1/conferences/6</td>\n",
       "      <td>23</td>\n",
       "      <td>Devils</td>\n",
       "      <td>/api/v1/franchises/23</td>\n",
       "      <td>NaN</td>\n",
       "    </tr>\n",
       "    <tr>\n",
       "      <th>1</th>\n",
       "      <td>2</td>\n",
       "      <td>New York Islanders</td>\n",
       "      <td>/api/v1/teams/2</td>\n",
       "      <td>NYI</td>\n",
       "      <td>Islanders</td>\n",
       "      <td>New York</td>\n",
       "      <td>1972</td>\n",
       "      <td>NY Islanders</td>\n",
       "      <td>http://www.newyorkislanders.com/</td>\n",
       "      <td>22</td>\n",
       "      <td>...</td>\n",
       "      <td>Metro</td>\n",
       "      <td>/api/v1/divisions/18</td>\n",
       "      <td>M</td>\n",
       "      <td>6</td>\n",
       "      <td>Eastern</td>\n",
       "      <td>/api/v1/conferences/6</td>\n",
       "      <td>22</td>\n",
       "      <td>Islanders</td>\n",
       "      <td>/api/v1/franchises/22</td>\n",
       "      <td>NaN</td>\n",
       "    </tr>\n",
       "    <tr>\n",
       "      <th>2</th>\n",
       "      <td>3</td>\n",
       "      <td>New York Rangers</td>\n",
       "      <td>/api/v1/teams/3</td>\n",
       "      <td>NYR</td>\n",
       "      <td>Rangers</td>\n",
       "      <td>New York</td>\n",
       "      <td>1926</td>\n",
       "      <td>NY Rangers</td>\n",
       "      <td>http://www.newyorkrangers.com/</td>\n",
       "      <td>10</td>\n",
       "      <td>...</td>\n",
       "      <td>Metro</td>\n",
       "      <td>/api/v1/divisions/18</td>\n",
       "      <td>M</td>\n",
       "      <td>6</td>\n",
       "      <td>Eastern</td>\n",
       "      <td>/api/v1/conferences/6</td>\n",
       "      <td>10</td>\n",
       "      <td>Rangers</td>\n",
       "      <td>/api/v1/franchises/10</td>\n",
       "      <td>5054.0</td>\n",
       "    </tr>\n",
       "    <tr>\n",
       "      <th>3</th>\n",
       "      <td>4</td>\n",
       "      <td>Philadelphia Flyers</td>\n",
       "      <td>/api/v1/teams/4</td>\n",
       "      <td>PHI</td>\n",
       "      <td>Flyers</td>\n",
       "      <td>Philadelphia</td>\n",
       "      <td>1967</td>\n",
       "      <td>Philadelphia</td>\n",
       "      <td>http://www.philadelphiaflyers.com/</td>\n",
       "      <td>16</td>\n",
       "      <td>...</td>\n",
       "      <td>Metro</td>\n",
       "      <td>/api/v1/divisions/18</td>\n",
       "      <td>M</td>\n",
       "      <td>6</td>\n",
       "      <td>Eastern</td>\n",
       "      <td>/api/v1/conferences/6</td>\n",
       "      <td>16</td>\n",
       "      <td>Flyers</td>\n",
       "      <td>/api/v1/franchises/16</td>\n",
       "      <td>5096.0</td>\n",
       "    </tr>\n",
       "    <tr>\n",
       "      <th>4</th>\n",
       "      <td>5</td>\n",
       "      <td>Pittsburgh Penguins</td>\n",
       "      <td>/api/v1/teams/5</td>\n",
       "      <td>PIT</td>\n",
       "      <td>Penguins</td>\n",
       "      <td>Pittsburgh</td>\n",
       "      <td>1967</td>\n",
       "      <td>Pittsburgh</td>\n",
       "      <td>http://pittsburghpenguins.com/</td>\n",
       "      <td>17</td>\n",
       "      <td>...</td>\n",
       "      <td>Metro</td>\n",
       "      <td>/api/v1/divisions/18</td>\n",
       "      <td>M</td>\n",
       "      <td>6</td>\n",
       "      <td>Eastern</td>\n",
       "      <td>/api/v1/conferences/6</td>\n",
       "      <td>17</td>\n",
       "      <td>Penguins</td>\n",
       "      <td>/api/v1/franchises/17</td>\n",
       "      <td>5034.0</td>\n",
       "    </tr>\n",
       "  </tbody>\n",
       "</table>\n",
       "<p>5 rows × 29 columns</p>\n",
       "</div>"
      ],
      "text/plain": [
       "   id                 name             link abbreviation   teamName  \\\n",
       "0   1    New Jersey Devils  /api/v1/teams/1          NJD     Devils   \n",
       "1   2   New York Islanders  /api/v1/teams/2          NYI  Islanders   \n",
       "2   3     New York Rangers  /api/v1/teams/3          NYR    Rangers   \n",
       "3   4  Philadelphia Flyers  /api/v1/teams/4          PHI     Flyers   \n",
       "4   5  Pittsburgh Penguins  /api/v1/teams/5          PIT   Penguins   \n",
       "\n",
       "   locationName  firstYearOfPlay     shortName  \\\n",
       "0    New Jersey             1982    New Jersey   \n",
       "1      New York             1972  NY Islanders   \n",
       "2      New York             1926    NY Rangers   \n",
       "3  Philadelphia             1967  Philadelphia   \n",
       "4    Pittsburgh             1967    Pittsburgh   \n",
       "\n",
       "                      officialSiteUrl  franchiseId  ...  division.nameShort  \\\n",
       "0     http://www.newjerseydevils.com/           23  ...               Metro   \n",
       "1    http://www.newyorkislanders.com/           22  ...               Metro   \n",
       "2      http://www.newyorkrangers.com/           10  ...               Metro   \n",
       "3  http://www.philadelphiaflyers.com/           16  ...               Metro   \n",
       "4      http://pittsburghpenguins.com/           17  ...               Metro   \n",
       "\n",
       "          division.link division.abbreviation conference.id conference.name  \\\n",
       "0  /api/v1/divisions/18                     M             6         Eastern   \n",
       "1  /api/v1/divisions/18                     M             6         Eastern   \n",
       "2  /api/v1/divisions/18                     M             6         Eastern   \n",
       "3  /api/v1/divisions/18                     M             6         Eastern   \n",
       "4  /api/v1/divisions/18                     M             6         Eastern   \n",
       "\n",
       "         conference.link franchise.franchiseId  franchise.teamName  \\\n",
       "0  /api/v1/conferences/6                    23              Devils   \n",
       "1  /api/v1/conferences/6                    22           Islanders   \n",
       "2  /api/v1/conferences/6                    10             Rangers   \n",
       "3  /api/v1/conferences/6                    16              Flyers   \n",
       "4  /api/v1/conferences/6                    17            Penguins   \n",
       "\n",
       "          franchise.link venue.id  \n",
       "0  /api/v1/franchises/23      NaN  \n",
       "1  /api/v1/franchises/22      NaN  \n",
       "2  /api/v1/franchises/10   5054.0  \n",
       "3  /api/v1/franchises/16   5096.0  \n",
       "4  /api/v1/franchises/17   5034.0  \n",
       "\n",
       "[5 rows x 29 columns]"
      ]
     },
     "execution_count": 2,
     "metadata": {},
     "output_type": "execute_result"
    }
   ],
   "source": [
    "teamdf = pd.read_csv(\"data/teams.csv\", index_col = 0)\n",
    "teamdf.head()"
   ]
  },
  {
   "cell_type": "code",
   "execution_count": 3,
   "metadata": {},
   "outputs": [
    {
     "data": {
      "text/plain": [
       "23"
      ]
     },
     "execution_count": 3,
     "metadata": {},
     "output_type": "execute_result"
    }
   ],
   "source": [
    "teamdf.loc[teamdf.name == \"Vancouver Canucks\", \"id\"].values[0]"
   ]
  },
  {
   "cell_type": "code",
   "execution_count": 4,
   "metadata": {},
   "outputs": [
    {
     "data": {
      "text/html": [
       "<div>\n",
       "<style scoped>\n",
       "    .dataframe tbody tr th:only-of-type {\n",
       "        vertical-align: middle;\n",
       "    }\n",
       "\n",
       "    .dataframe tbody tr th {\n",
       "        vertical-align: top;\n",
       "    }\n",
       "\n",
       "    .dataframe thead th {\n",
       "        text-align: right;\n",
       "    }\n",
       "</style>\n",
       "<table border=\"1\" class=\"dataframe\">\n",
       "  <thead>\n",
       "    <tr style=\"text-align: right;\">\n",
       "      <th></th>\n",
       "      <th>date</th>\n",
       "      <th>totalItems</th>\n",
       "      <th>totalEvents</th>\n",
       "      <th>totalGames</th>\n",
       "      <th>totalMatches</th>\n",
       "      <th>games</th>\n",
       "      <th>events</th>\n",
       "      <th>matches</th>\n",
       "    </tr>\n",
       "  </thead>\n",
       "  <tbody>\n",
       "    <tr>\n",
       "      <th>0</th>\n",
       "      <td>2018-10-03</td>\n",
       "      <td>1</td>\n",
       "      <td>0</td>\n",
       "      <td>1</td>\n",
       "      <td>0</td>\n",
       "      <td>[{'gamePk': 2018020003, 'link': '/api/v1/game/...</td>\n",
       "      <td>[]</td>\n",
       "      <td>[]</td>\n",
       "    </tr>\n",
       "    <tr>\n",
       "      <th>1</th>\n",
       "      <td>2018-10-06</td>\n",
       "      <td>1</td>\n",
       "      <td>0</td>\n",
       "      <td>1</td>\n",
       "      <td>0</td>\n",
       "      <td>[{'gamePk': 2018020028, 'link': '/api/v1/game/...</td>\n",
       "      <td>[]</td>\n",
       "      <td>[]</td>\n",
       "    </tr>\n",
       "    <tr>\n",
       "      <th>2</th>\n",
       "      <td>2018-10-09</td>\n",
       "      <td>1</td>\n",
       "      <td>0</td>\n",
       "      <td>1</td>\n",
       "      <td>0</td>\n",
       "      <td>[{'gamePk': 2018020037, 'link': '/api/v1/game/...</td>\n",
       "      <td>[]</td>\n",
       "      <td>[]</td>\n",
       "    </tr>\n",
       "    <tr>\n",
       "      <th>3</th>\n",
       "      <td>2018-10-11</td>\n",
       "      <td>1</td>\n",
       "      <td>0</td>\n",
       "      <td>1</td>\n",
       "      <td>0</td>\n",
       "      <td>[{'gamePk': 2018020053, 'link': '/api/v1/game/...</td>\n",
       "      <td>[]</td>\n",
       "      <td>[]</td>\n",
       "    </tr>\n",
       "    <tr>\n",
       "      <th>4</th>\n",
       "      <td>2018-10-13</td>\n",
       "      <td>1</td>\n",
       "      <td>0</td>\n",
       "      <td>1</td>\n",
       "      <td>0</td>\n",
       "      <td>[{'gamePk': 2018020064, 'link': '/api/v1/game/...</td>\n",
       "      <td>[]</td>\n",
       "      <td>[]</td>\n",
       "    </tr>\n",
       "  </tbody>\n",
       "</table>\n",
       "</div>"
      ],
      "text/plain": [
       "         date  totalItems  totalEvents  totalGames  totalMatches  \\\n",
       "0  2018-10-03           1            0           1             0   \n",
       "1  2018-10-06           1            0           1             0   \n",
       "2  2018-10-09           1            0           1             0   \n",
       "3  2018-10-11           1            0           1             0   \n",
       "4  2018-10-13           1            0           1             0   \n",
       "\n",
       "                                               games events matches  \n",
       "0  [{'gamePk': 2018020003, 'link': '/api/v1/game/...     []      []  \n",
       "1  [{'gamePk': 2018020028, 'link': '/api/v1/game/...     []      []  \n",
       "2  [{'gamePk': 2018020037, 'link': '/api/v1/game/...     []      []  \n",
       "3  [{'gamePk': 2018020053, 'link': '/api/v1/game/...     []      []  \n",
       "4  [{'gamePk': 2018020064, 'link': '/api/v1/game/...     []      []  "
      ]
     },
     "execution_count": 4,
     "metadata": {},
     "output_type": "execute_result"
    }
   ],
   "source": [
    "seasons = \"20182019\"\n",
    "r = requests.get(\"https://statsapi.web.nhl.com/api/v1/\" + \"schedule?season=\" + seasons + \"&gameType=R&site=en_nhl&teamId=\" + '23')\n",
    "data = r.json()\n",
    "df = pd.DataFrame(data[\"dates\"])\n",
    "dates = df.date.tolist()\n",
    "df.head()"
   ]
  },
  {
   "cell_type": "code",
   "execution_count": null,
   "metadata": {},
   "outputs": [],
   "source": []
  },
  {
   "cell_type": "code",
   "execution_count": 5,
   "metadata": {},
   "outputs": [
    {
     "data": {
      "text/plain": [
       "{'gamePk': 2018020003,\n",
       " 'link': '/api/v1/game/2018020003/feed/live',\n",
       " 'gameType': 'R',\n",
       " 'season': '20182019',\n",
       " 'gameDate': '2018-10-04T02:00:00Z',\n",
       " 'status': {'abstractGameState': 'Final',\n",
       "  'codedGameState': '7',\n",
       "  'detailedState': 'Final',\n",
       "  'statusCode': '7',\n",
       "  'startTimeTBD': False},\n",
       " 'teams': {'away': {'leagueRecord': {'wins': 0,\n",
       "    'losses': 1,\n",
       "    'ot': 0,\n",
       "    'type': 'league'},\n",
       "   'score': 2,\n",
       "   'team': {'id': 20, 'name': 'Calgary Flames', 'link': '/api/v1/teams/20'}},\n",
       "  'home': {'leagueRecord': {'wins': 1, 'losses': 0, 'ot': 0, 'type': 'league'},\n",
       "   'score': 5,\n",
       "   'team': {'id': 23,\n",
       "    'name': 'Vancouver Canucks',\n",
       "    'link': '/api/v1/teams/23'}}},\n",
       " 'venue': {'id': 5073, 'name': 'Rogers Arena', 'link': '/api/v1/venues/5073'},\n",
       " 'content': {'link': '/api/v1/game/2018020003/content'}}"
      ]
     },
     "execution_count": 5,
     "metadata": {},
     "output_type": "execute_result"
    }
   ],
   "source": [
    "gamedf = pd.DataFrame(df.games.tolist())\n",
    "gamedf.columns= ['games']\n",
    "gamedf.head()\n",
    "gamedf.iloc[0,0]"
   ]
  },
  {
   "cell_type": "code",
   "execution_count": 6,
   "metadata": {},
   "outputs": [
    {
     "data": {
      "text/plain": [
       "Index(['gamePk', 'link', 'gameType', 'season', 'gameDate',\n",
       "       'status.abstractGameState', 'status.codedGameState',\n",
       "       'status.detailedState', 'status.statusCode', 'status.startTimeTBD',\n",
       "       'teams.away.leagueRecord.wins', 'teams.away.leagueRecord.losses',\n",
       "       'teams.away.leagueRecord.ot', 'teams.away.leagueRecord.type',\n",
       "       'teams.away.score', 'teams.away.team.id', 'teams.away.team.name',\n",
       "       'teams.away.team.link', 'teams.home.leagueRecord.wins',\n",
       "       'teams.home.leagueRecord.losses', 'teams.home.leagueRecord.ot',\n",
       "       'teams.home.leagueRecord.type', 'teams.home.score',\n",
       "       'teams.home.team.id', 'teams.home.team.name', 'teams.home.team.link',\n",
       "       'venue.id', 'venue.name', 'venue.link', 'content.link'],\n",
       "      dtype='object')"
      ]
     },
     "execution_count": 6,
     "metadata": {},
     "output_type": "execute_result"
    }
   ],
   "source": [
    "gamedf = pd.json_normalize(gamedf.games)\n",
    "gamedf.columns"
   ]
  },
  {
   "cell_type": "code",
   "execution_count": 7,
   "metadata": {},
   "outputs": [
    {
     "data": {
      "text/html": [
       "<div>\n",
       "<style scoped>\n",
       "    .dataframe tbody tr th:only-of-type {\n",
       "        vertical-align: middle;\n",
       "    }\n",
       "\n",
       "    .dataframe tbody tr th {\n",
       "        vertical-align: top;\n",
       "    }\n",
       "\n",
       "    .dataframe thead th {\n",
       "        text-align: right;\n",
       "    }\n",
       "</style>\n",
       "<table border=\"1\" class=\"dataframe\">\n",
       "  <thead>\n",
       "    <tr style=\"text-align: right;\">\n",
       "      <th></th>\n",
       "      <th>gamePk</th>\n",
       "      <th>link</th>\n",
       "      <th>away</th>\n",
       "      <th>home</th>\n",
       "      <th>gameType</th>\n",
       "      <th>season</th>\n",
       "      <th>status</th>\n",
       "      <th>date</th>\n",
       "    </tr>\n",
       "  </thead>\n",
       "  <tbody>\n",
       "    <tr>\n",
       "      <th>0</th>\n",
       "      <td>2018020003</td>\n",
       "      <td>/api/v1/game/2018020003/feed/live</td>\n",
       "      <td>Calgary Flames</td>\n",
       "      <td>Vancouver Canucks</td>\n",
       "      <td>R</td>\n",
       "      <td>20182019</td>\n",
       "      <td>Final</td>\n",
       "      <td>2018-10-03</td>\n",
       "    </tr>\n",
       "    <tr>\n",
       "      <th>1</th>\n",
       "      <td>2018020028</td>\n",
       "      <td>/api/v1/game/2018020028/feed/live</td>\n",
       "      <td>Vancouver Canucks</td>\n",
       "      <td>Calgary Flames</td>\n",
       "      <td>R</td>\n",
       "      <td>20182019</td>\n",
       "      <td>Final</td>\n",
       "      <td>2018-10-06</td>\n",
       "    </tr>\n",
       "    <tr>\n",
       "      <th>2</th>\n",
       "      <td>2018020037</td>\n",
       "      <td>/api/v1/game/2018020037/feed/live</td>\n",
       "      <td>Vancouver Canucks</td>\n",
       "      <td>Carolina Hurricanes</td>\n",
       "      <td>R</td>\n",
       "      <td>20182019</td>\n",
       "      <td>Final</td>\n",
       "      <td>2018-10-09</td>\n",
       "    </tr>\n",
       "    <tr>\n",
       "      <th>3</th>\n",
       "      <td>2018020053</td>\n",
       "      <td>/api/v1/game/2018020053/feed/live</td>\n",
       "      <td>Vancouver Canucks</td>\n",
       "      <td>Tampa Bay Lightning</td>\n",
       "      <td>R</td>\n",
       "      <td>20182019</td>\n",
       "      <td>Final</td>\n",
       "      <td>2018-10-11</td>\n",
       "    </tr>\n",
       "    <tr>\n",
       "      <th>4</th>\n",
       "      <td>2018020064</td>\n",
       "      <td>/api/v1/game/2018020064/feed/live</td>\n",
       "      <td>Vancouver Canucks</td>\n",
       "      <td>Florida Panthers</td>\n",
       "      <td>R</td>\n",
       "      <td>20182019</td>\n",
       "      <td>Final</td>\n",
       "      <td>2018-10-13</td>\n",
       "    </tr>\n",
       "  </tbody>\n",
       "</table>\n",
       "</div>"
      ],
      "text/plain": [
       "       gamePk                               link               away  \\\n",
       "0  2018020003  /api/v1/game/2018020003/feed/live     Calgary Flames   \n",
       "1  2018020028  /api/v1/game/2018020028/feed/live  Vancouver Canucks   \n",
       "2  2018020037  /api/v1/game/2018020037/feed/live  Vancouver Canucks   \n",
       "3  2018020053  /api/v1/game/2018020053/feed/live  Vancouver Canucks   \n",
       "4  2018020064  /api/v1/game/2018020064/feed/live  Vancouver Canucks   \n",
       "\n",
       "                  home gameType    season status        date  \n",
       "0    Vancouver Canucks        R  20182019  Final  2018-10-03  \n",
       "1       Calgary Flames        R  20182019  Final  2018-10-06  \n",
       "2  Carolina Hurricanes        R  20182019  Final  2018-10-09  \n",
       "3  Tampa Bay Lightning        R  20182019  Final  2018-10-11  \n",
       "4     Florida Panthers        R  20182019  Final  2018-10-13  "
      ]
     },
     "execution_count": 7,
     "metadata": {},
     "output_type": "execute_result"
    }
   ],
   "source": [
    "gamedf = gamedf.loc[:, ['gamePk', 'link', \"teams.away.team.name\", \"teams.home.team.name\", 'gameType','season', 'status.abstractGameState']]\n",
    "gamedf = gamedf.rename(columns = {\"teams.away.team.name\": \"away\", \"teams.home.team.name\" : \"home\", \"status.abstractGameState\":\"status\"})\n",
    "gamedf['date'] = dates\n",
    "gamedf.head()\n"
   ]
  },
  {
   "cell_type": "code",
   "execution_count": 8,
   "metadata": {},
   "outputs": [],
   "source": [
    "gamelinks = gamedf.link.tolist()\n",
    "\n"
   ]
  },
  {
   "cell_type": "code",
   "execution_count": 9,
   "metadata": {},
   "outputs": [],
   "source": [
    "livedata = []\n",
    "\n",
    "for gamelink in gamelinks:\n",
    "    r = requests.get(\"https://statsapi.web.nhl.com\" + gamelink)\n",
    "    data = r.json()\n",
    "    livedata.append(data)\n"
   ]
  },
  {
   "cell_type": "code",
   "execution_count": 10,
   "metadata": {},
   "outputs": [
    {
     "data": {
      "text/plain": [
       "'\\ngamedata goes:\\n{\\ncopyright\\ngamePk\\nlink\\nmetadata\\ngameData: {game, datetime, status, teams, players}\\n**liveData**: \\n}\\n\\nliveData goes: \\n{\\nplays: {}\\n}'"
      ]
     },
     "execution_count": 10,
     "metadata": {},
     "output_type": "execute_result"
    }
   ],
   "source": [
    "'''\n",
    "gamedata goes:\n",
    "{\n",
    "copyright\n",
    "gamePk\n",
    "link\n",
    "metadata\n",
    "gameData: {game, datetime, status, teams, players}\n",
    "**liveData**: \n",
    "}\n",
    "\n",
    "liveData goes: \n",
    "{\n",
    "plays: {}\n",
    "}'''\n",
    "\n"
   ]
  },
  {
   "cell_type": "code",
   "execution_count": 11,
   "metadata": {},
   "outputs": [],
   "source": [
    "# Initialise the player dictionary\n",
    "full_name = 'Brock Boeser'\n",
    "event_types = ['Shot','Goal']\n",
    "\n",
    "player_data = {};\n",
    "player_data['Shot'] = {};\n",
    "player_data['Shot']['x'] = [];\n",
    "player_data['Shot']['y'] = [];\n",
    "player_data['Shot']['Type'] = []\n",
    "player_data['Shot']['GamePk'] = []\n",
    "\n",
    "\n",
    "player_data['Goal'] = {};\n",
    "player_data['Goal']['x'] = [];\n",
    "player_data['Goal']['y'] = [];\n",
    "player_data['Goal']['Type'] = []\n",
    "player_data['Goal']['GamePk'] = []\n"
   ]
  },
  {
   "cell_type": "code",
   "execution_count": 12,
   "metadata": {},
   "outputs": [],
   "source": [
    "for data in livedata:\n",
    "    if \"liveData\" not in data:\n",
    "        continue\n",
    "        \n",
    "    # extract from playbyplay livedata\n",
    "    plays = data['liveData']['plays']['allPlays']\n",
    "    \n",
    "    for play in plays:\n",
    "        if \"players\" in play:\n",
    "            for player in play[\"players\"]:\n",
    "                if player[\"player\"][\"fullName\"] in [full_name] and player[\"playerType\"] in [\"Shooter\", \"Scorer\"]:\n",
    "                    event = play[\"result\"][\"event\"]\n",
    "                    #if play contains one of the events\n",
    "                    \n",
    "                    if event in event_types:\n",
    "                        if play[\"about\"][\"periodType\"] == \"SHOOTOUT\":\n",
    "                            continue\n",
    "                        if \"x\" in play[\"coordinates\"]:\n",
    "                            player_data[event][\"x\"].append(play[\"coordinates\"][\"x\"])\n",
    "                            player_data[event][\"y\"].append(play[\"coordinates\"][\"y\"])\n",
    "                            player_data[event][\"Type\"].append(play[\"result\"][\"secondaryType\"])\n",
    "                            player_data[event][\"GamePk\"].append(data[\"gamePk\"])\n",
    "                            \n",
    "                                                             "
   ]
  },
  {
   "cell_type": "code",
   "execution_count": 13,
   "metadata": {},
   "outputs": [],
   "source": [
    "# pd.set_option('display.max_rows', None)\n",
    "gamelink = gamedf.loc[gamedf.date == \"2019-02-14\"][\"link\"].iloc[0]\n",
    "r = requests.get(\"https://statsapi.web.nhl.com\" + gamelink)\n",
    "data = r.json()\n"
   ]
  },
  {
   "cell_type": "code",
   "execution_count": 14,
   "metadata": {},
   "outputs": [],
   "source": [
    "# https://stackoverflow.com/questions/12309269/how-do-i-write-json-data-to-a-file\n",
    "import json\n",
    "with open('data/gamedata.json', 'w') as f:\n",
    "    json.dump(data, f)"
   ]
  },
  {
   "cell_type": "code",
   "execution_count": 15,
   "metadata": {},
   "outputs": [
    {
     "data": {
      "text/html": [
       "<div>\n",
       "<style scoped>\n",
       "    .dataframe tbody tr th:only-of-type {\n",
       "        vertical-align: middle;\n",
       "    }\n",
       "\n",
       "    .dataframe tbody tr th {\n",
       "        vertical-align: top;\n",
       "    }\n",
       "\n",
       "    .dataframe thead th {\n",
       "        text-align: right;\n",
       "    }\n",
       "</style>\n",
       "<table border=\"1\" class=\"dataframe\">\n",
       "  <thead>\n",
       "    <tr style=\"text-align: right;\">\n",
       "      <th></th>\n",
       "      <th>x</th>\n",
       "      <th>y</th>\n",
       "      <th>Type</th>\n",
       "      <th>GamePk</th>\n",
       "    </tr>\n",
       "  </thead>\n",
       "  <tbody>\n",
       "    <tr>\n",
       "      <th>0</th>\n",
       "      <td>82.0</td>\n",
       "      <td>-21.0</td>\n",
       "      <td>Wrist Shot</td>\n",
       "      <td>2018020028</td>\n",
       "    </tr>\n",
       "    <tr>\n",
       "      <th>1</th>\n",
       "      <td>59.0</td>\n",
       "      <td>-20.0</td>\n",
       "      <td>Wrist Shot</td>\n",
       "      <td>2018020028</td>\n",
       "    </tr>\n",
       "    <tr>\n",
       "      <th>2</th>\n",
       "      <td>-64.0</td>\n",
       "      <td>14.0</td>\n",
       "      <td>Wrist Shot</td>\n",
       "      <td>2018020037</td>\n",
       "    </tr>\n",
       "    <tr>\n",
       "      <th>3</th>\n",
       "      <td>51.0</td>\n",
       "      <td>-19.0</td>\n",
       "      <td>Wrist Shot</td>\n",
       "      <td>2018020053</td>\n",
       "    </tr>\n",
       "    <tr>\n",
       "      <th>4</th>\n",
       "      <td>48.0</td>\n",
       "      <td>11.0</td>\n",
       "      <td>Slap Shot</td>\n",
       "      <td>2018020053</td>\n",
       "    </tr>\n",
       "    <tr>\n",
       "      <th>...</th>\n",
       "      <td>...</td>\n",
       "      <td>...</td>\n",
       "      <td>...</td>\n",
       "      <td>...</td>\n",
       "    </tr>\n",
       "    <tr>\n",
       "      <th>178</th>\n",
       "      <td>85.0</td>\n",
       "      <td>6.0</td>\n",
       "      <td>Wrist Shot</td>\n",
       "      <td>2018021249</td>\n",
       "    </tr>\n",
       "    <tr>\n",
       "      <th>179</th>\n",
       "      <td>48.0</td>\n",
       "      <td>-31.0</td>\n",
       "      <td>Wrist Shot</td>\n",
       "      <td>2018021249</td>\n",
       "    </tr>\n",
       "    <tr>\n",
       "      <th>180</th>\n",
       "      <td>-36.0</td>\n",
       "      <td>33.0</td>\n",
       "      <td>Wrist Shot</td>\n",
       "      <td>2018021249</td>\n",
       "    </tr>\n",
       "    <tr>\n",
       "      <th>181</th>\n",
       "      <td>-82.0</td>\n",
       "      <td>-7.0</td>\n",
       "      <td>Backhand</td>\n",
       "      <td>2018021258</td>\n",
       "    </tr>\n",
       "    <tr>\n",
       "      <th>182</th>\n",
       "      <td>-68.0</td>\n",
       "      <td>-8.0</td>\n",
       "      <td>Wrist Shot</td>\n",
       "      <td>2018021258</td>\n",
       "    </tr>\n",
       "  </tbody>\n",
       "</table>\n",
       "<p>183 rows × 4 columns</p>\n",
       "</div>"
      ],
      "text/plain": [
       "        x     y        Type      GamePk\n",
       "0    82.0 -21.0  Wrist Shot  2018020028\n",
       "1    59.0 -20.0  Wrist Shot  2018020028\n",
       "2   -64.0  14.0  Wrist Shot  2018020037\n",
       "3    51.0 -19.0  Wrist Shot  2018020053\n",
       "4    48.0  11.0   Slap Shot  2018020053\n",
       "..    ...   ...         ...         ...\n",
       "178  85.0   6.0  Wrist Shot  2018021249\n",
       "179  48.0 -31.0  Wrist Shot  2018021249\n",
       "180 -36.0  33.0  Wrist Shot  2018021249\n",
       "181 -82.0  -7.0    Backhand  2018021258\n",
       "182 -68.0  -8.0  Wrist Shot  2018021258\n",
       "\n",
       "[183 rows x 4 columns]"
      ]
     },
     "execution_count": 15,
     "metadata": {},
     "output_type": "execute_result"
    }
   ],
   "source": [
    "pd.DataFrame(player_data[\"Shot\"])"
   ]
  },
  {
   "cell_type": "code",
   "execution_count": null,
   "metadata": {},
   "outputs": [],
   "source": []
  },
  {
   "cell_type": "code",
   "execution_count": 16,
   "metadata": {},
   "outputs": [
    {
     "data": {
      "text/plain": [
       "209"
      ]
     },
     "execution_count": 16,
     "metadata": {},
     "output_type": "execute_result"
    }
   ],
   "source": [
    "# Get the total number of shots made by the player\n",
    "player_total_shots = len(player_data['Shot']['x']) + len(player_data['Goal']['x'])\n",
    "player_total_shots"
   ]
  },
  {
   "cell_type": "code",
   "execution_count": 17,
   "metadata": {},
   "outputs": [],
   "source": [
    "player_data_normalized = player_data.copy()\n",
    "for i, x in enumerate(player_data_normalized['Shot']['x']):\n",
    "    if x < 0:\n",
    "        player_data_normalized['Shot']['x'][i] = player_data_normalized['Shot']['x'][i] * -1\n",
    "        player_data_normalized['Shot']['y'][i] = player_data_normalized['Shot']['y'][i] * -1\n",
    "        \n",
    "for i, x in enumerate(player_data_normalized['Goal']['x']):\n",
    "    if x < 0:\n",
    "        player_data_normalized['Goal']['x'][i] = player_data_normalized['Goal']['x'][i] * -1\n",
    "        player_data_normalized['Goal']['y'][i] = player_data_normalized['Goal']['y'][i] * -1\n"
   ]
  },
  {
   "cell_type": "code",
   "execution_count": 18,
   "metadata": {},
   "outputs": [
    {
     "data": {
      "text/plain": [
       "0.12440191387559808"
      ]
     },
     "execution_count": 18,
     "metadata": {},
     "output_type": "execute_result"
    }
   ],
   "source": [
    "# Find the players goal score percentage\n",
    "player_goal_pct = len(player_data['Goal']['x'])/player_total_shots\n",
    "player_goal_pct"
   ]
  },
  {
   "cell_type": "code",
   "execution_count": 19,
   "metadata": {},
   "outputs": [],
   "source": [
    "# To keep the aspect ration correct we use a square figure size\n",
    "xbnds = np.array([-100.,100.0])\n",
    "ybnds = np.array([-100,100])\n",
    "extent = [xbnds[0],xbnds[1],ybnds[0],ybnds[1]]\n",
    "# We are going to bin in 30 unit increments.  It is fun to play with this!  \n",
    "gridsize= 30;mincnt=0"
   ]
  },
  {
   "cell_type": "code",
   "execution_count": 20,
   "metadata": {},
   "outputs": [
    {
     "data": {
      "image/png": "[encoded data removed]",
      "text/plain": [
       "<Figure size 432x288 with 1 Axes>"
      ]
     },
     "metadata": {
      "needs_background": "light"
     },
     "output_type": "display_data"
    },
    {
     "data": {
      "image/png": "[encoded data removed]",
      "text/plain": [
       "<Figure size 432x288 with 1 Axes>"
      ]
     },
     "metadata": {
      "needs_background": "light"
     },
     "output_type": "display_data"
    }
   ],
   "source": [
    "fig, ax = plt.subplots()\n",
    "img = plt.imread(\"rink.png\")\n",
    "ax.imshow(img, extent = [0, 100, -42.5, 42.5])\n",
    "plt.scatter(player_data['Shot']['x'], player_data['Shot'][\"y\"], c = \"red\")\n",
    "plt.scatter(player_data['Goal']['x'], player_data['Goal'][\"y\"], c = \"red\")\n",
    "plt.title(f\"Shots of {full_name} in {seasons}: all {player_total_shots} shots\")\n",
    "plt.show()\n",
    "\n",
    "fig, ax = plt.subplots()\n",
    "img = plt.imread(\"rink.png\")\n",
    "ax.imshow(img, extent = [0, 100, -42.5, 42.5])\n",
    "plt.scatter(player_data['Goal']['x'], player_data['Goal'][\"y\"], c = \"green\")\n",
    "plt.title(f\"Goals of {full_name} in in {seasons}: all {len(player_data['Goal']['x'])} goals\")\n",
    "plt.show()\n"
   ]
  },
  {
   "cell_type": "code",
   "execution_count": 21,
   "metadata": {},
   "outputs": [
    {
     "data": {
      "text/plain": [
       "<seaborn.axisgrid.JointGrid at 0x1fc9412dd30>"
      ]
     },
     "execution_count": 21,
     "metadata": {},
     "output_type": "execute_result"
    },
    {
     "data": {
      "image/png": "[encoded data removed]",
      "text/plain": [
       "<Figure size 432x432 with 3 Axes>"
      ]
     },
     "metadata": {
      "needs_background": "light"
     },
     "output_type": "display_data"
    },
    {
     "data": {
      "image/png": "[encoded data removed]",
      "text/plain": [
       "<Figure size 432x432 with 3 Axes>"
      ]
     },
     "metadata": {
      "needs_background": "light"
     },
     "output_type": "display_data"
    }
   ],
   "source": [
    "sns.jointplot(x=\"x\", y=\"y\", data=player_data_normalized['Shot'],kind=\"kde\")\n",
    "sns.jointplot(x=\"x\", y=\"y\", data=player_data_normalized['Goal'],kind=\"kde\")\n"
   ]
  },
  {
   "cell_type": "code",
   "execution_count": null,
   "metadata": {},
   "outputs": [],
   "source": []
  },
  {
   "cell_type": "code",
   "execution_count": null,
   "metadata": {},
   "outputs": [],
   "source": []
  }
 ],
 "metadata": {
  "kernelspec": {
   "display_name": "Python 3",
   "language": "python",
   "name": "python3"
  },
  "language_info": {
   "codemirror_mode": {
    "name": "ipython",
    "version": 3
   },
   "file_extension": ".py",
   "mimetype": "text/x-python",
   "name": "python",
   "nbconvert_exporter": "python",
   "pygments_lexer": "ipython3",
   "version": "3.8.3"
  }
 },
 "nbformat": 4,
 "nbformat_minor": 4
}
