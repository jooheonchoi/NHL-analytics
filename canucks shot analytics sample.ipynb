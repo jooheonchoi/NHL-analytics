{
 "cells": [
  {
   "cell_type": "code",
   "execution_count": 1,
   "metadata": {},
   "outputs": [
    {
     "data": {
      "text/plain": [
       "'\\nNHL API: https://gitlab.com/dword4/nhlapi/-/tree/master\\n\\nMore info: \\n\\ninspirations:\\nhttps://towardsdatascience.com/nhl-analytics-with-python-6390c5d3206d\\nhttps://towardsdatascience.com/python-hockey-analytics-tutorial-b0883085938a#ee0a\\nhttps://github.com/rkipp1210/data-projects/tree/master/hockey-shot-blocking\\n'"
      ]
     },
     "execution_count": 1,
     "metadata": {},
     "output_type": "execute_result"
    }
   ],
   "source": [
    "import requests\n",
    "import numpy as np \n",
    "import pandas as pd \n",
    "import pickle    \n",
    "import matplotlib\n",
    "import matplotlib.pyplot as plt\n",
    "import seaborn as sns\n",
    "color_map = plt.cm.winter\n",
    "from matplotlib.patches import RegularPolygon\n",
    "import math\n",
    "from PIL import Image\n",
    "\n",
    "'''\n",
    "NHL API: https://gitlab.com/dword4/nhlapi/-/tree/master\n",
    "\n",
    "More info: \n",
    "\n",
    "inspirations:\n",
    "https://towardsdatascience.com/nhl-analytics-with-python-6390c5d3206d\n",
    "https://towardsdatascience.com/python-hockey-analytics-tutorial-b0883085938a#ee0a\n",
    "https://github.com/rkipp1210/data-projects/tree/master/hockey-shot-blocking\n",
    "'''"
   ]
  },
  {
   "cell_type": "code",
   "execution_count": 2,
   "metadata": {},
   "outputs": [
    {
     "data": {
      "text/html": [
       "<div>\n",
       "<style scoped>\n",
       "    .dataframe tbody tr th:only-of-type {\n",
       "        vertical-align: middle;\n",
       "    }\n",
       "\n",
       "    .dataframe tbody tr th {\n",
       "        vertical-align: top;\n",
       "    }\n",
       "\n",
       "    .dataframe thead th {\n",
       "        text-align: right;\n",
       "    }\n",
       "</style>\n",
       "<table border=\"1\" class=\"dataframe\">\n",
       "  <thead>\n",
       "    <tr style=\"text-align: right;\">\n",
       "      <th></th>\n",
       "      <th>id</th>\n",
       "      <th>name</th>\n",
       "      <th>link</th>\n",
       "      <th>abbreviation</th>\n",
       "      <th>teamName</th>\n",
       "      <th>locationName</th>\n",
       "      <th>firstYearOfPlay</th>\n",
       "      <th>shortName</th>\n",
       "      <th>officialSiteUrl</th>\n",
       "      <th>franchiseId</th>\n",
       "      <th>...</th>\n",
       "      <th>division.nameShort</th>\n",
       "      <th>division.link</th>\n",
       "      <th>division.abbreviation</th>\n",
       "      <th>conference.id</th>\n",
       "      <th>conference.name</th>\n",
       "      <th>conference.link</th>\n",
       "      <th>franchise.franchiseId</th>\n",
       "      <th>franchise.teamName</th>\n",
       "      <th>franchise.link</th>\n",
       "      <th>venue.id</th>\n",
       "    </tr>\n",
       "  </thead>\n",
       "  <tbody>\n",
       "    <tr>\n",
       "      <th>0</th>\n",
       "      <td>1</td>\n",
       "      <td>New Jersey Devils</td>\n",
       "      <td>/api/v1/teams/1</td>\n",
       "      <td>NJD</td>\n",
       "      <td>Devils</td>\n",
       "      <td>New Jersey</td>\n",
       "      <td>1982</td>\n",
       "      <td>New Jersey</td>\n",
       "      <td>http://www.newjerseydevils.com/</td>\n",
       "      <td>23</td>\n",
       "      <td>...</td>\n",
       "      <td>Metro</td>\n",
       "      <td>/api/v1/divisions/18</td>\n",
       "      <td>M</td>\n",
       "      <td>6</td>\n",
       "      <td>Eastern</td>\n",
       "      <td>/api/v1/conferences/6</td>\n",
       "      <td>23</td>\n",
       "      <td>Devils</td>\n",
       "      <td>/api/v1/franchises/23</td>\n",
       "      <td>NaN</td>\n",
       "    </tr>\n",
       "    <tr>\n",
       "      <th>1</th>\n",
       "      <td>2</td>\n",
       "      <td>New York Islanders</td>\n",
       "      <td>/api/v1/teams/2</td>\n",
       "      <td>NYI</td>\n",
       "      <td>Islanders</td>\n",
       "      <td>New York</td>\n",
       "      <td>1972</td>\n",
       "      <td>NY Islanders</td>\n",
       "      <td>http://www.newyorkislanders.com/</td>\n",
       "      <td>22</td>\n",
       "      <td>...</td>\n",
       "      <td>Metro</td>\n",
       "      <td>/api/v1/divisions/18</td>\n",
       "      <td>M</td>\n",
       "      <td>6</td>\n",
       "      <td>Eastern</td>\n",
       "      <td>/api/v1/conferences/6</td>\n",
       "      <td>22</td>\n",
       "      <td>Islanders</td>\n",
       "      <td>/api/v1/franchises/22</td>\n",
       "      <td>NaN</td>\n",
       "    </tr>\n",
       "    <tr>\n",
       "      <th>2</th>\n",
       "      <td>3</td>\n",
       "      <td>New York Rangers</td>\n",
       "      <td>/api/v1/teams/3</td>\n",
       "      <td>NYR</td>\n",
       "      <td>Rangers</td>\n",
       "      <td>New York</td>\n",
       "      <td>1926</td>\n",
       "      <td>NY Rangers</td>\n",
       "      <td>http://www.newyorkrangers.com/</td>\n",
       "      <td>10</td>\n",
       "      <td>...</td>\n",
       "      <td>Metro</td>\n",
       "      <td>/api/v1/divisions/18</td>\n",
       "      <td>M</td>\n",
       "      <td>6</td>\n",
       "      <td>Eastern</td>\n",
       "      <td>/api/v1/conferences/6</td>\n",
       "      <td>10</td>\n",
       "      <td>Rangers</td>\n",
       "      <td>/api/v1/franchises/10</td>\n",
       "      <td>5054.0</td>\n",
       "    </tr>\n",
       "    <tr>\n",
       "      <th>3</th>\n",
       "      <td>4</td>\n",
       "      <td>Philadelphia Flyers</td>\n",
       "      <td>/api/v1/teams/4</td>\n",
       "      <td>PHI</td>\n",
       "      <td>Flyers</td>\n",
       "      <td>Philadelphia</td>\n",
       "      <td>1967</td>\n",
       "      <td>Philadelphia</td>\n",
       "      <td>http://www.philadelphiaflyers.com/</td>\n",
       "      <td>16</td>\n",
       "      <td>...</td>\n",
       "      <td>Metro</td>\n",
       "      <td>/api/v1/divisions/18</td>\n",
       "      <td>M</td>\n",
       "      <td>6</td>\n",
       "      <td>Eastern</td>\n",
       "      <td>/api/v1/conferences/6</td>\n",
       "      <td>16</td>\n",
       "      <td>Flyers</td>\n",
       "      <td>/api/v1/franchises/16</td>\n",
       "      <td>5096.0</td>\n",
       "    </tr>\n",
       "    <tr>\n",
       "      <th>4</th>\n",
       "      <td>5</td>\n",
       "      <td>Pittsburgh Penguins</td>\n",
       "      <td>/api/v1/teams/5</td>\n",
       "      <td>PIT</td>\n",
       "      <td>Penguins</td>\n",
       "      <td>Pittsburgh</td>\n",
       "      <td>1967</td>\n",
       "      <td>Pittsburgh</td>\n",
       "      <td>http://pittsburghpenguins.com/</td>\n",
       "      <td>17</td>\n",
       "      <td>...</td>\n",
       "      <td>Metro</td>\n",
       "      <td>/api/v1/divisions/18</td>\n",
       "      <td>M</td>\n",
       "      <td>6</td>\n",
       "      <td>Eastern</td>\n",
       "      <td>/api/v1/conferences/6</td>\n",
       "      <td>17</td>\n",
       "      <td>Penguins</td>\n",
       "      <td>/api/v1/franchises/17</td>\n",
       "      <td>5034.0</td>\n",
       "    </tr>\n",
       "  </tbody>\n",
       "</table>\n",
       "<p>5 rows × 29 columns</p>\n",
       "</div>"
      ],
      "text/plain": [
       "   id                 name             link abbreviation   teamName  \\\n",
       "0   1    New Jersey Devils  /api/v1/teams/1          NJD     Devils   \n",
       "1   2   New York Islanders  /api/v1/teams/2          NYI  Islanders   \n",
       "2   3     New York Rangers  /api/v1/teams/3          NYR    Rangers   \n",
       "3   4  Philadelphia Flyers  /api/v1/teams/4          PHI     Flyers   \n",
       "4   5  Pittsburgh Penguins  /api/v1/teams/5          PIT   Penguins   \n",
       "\n",
       "   locationName  firstYearOfPlay     shortName  \\\n",
       "0    New Jersey             1982    New Jersey   \n",
       "1      New York             1972  NY Islanders   \n",
       "2      New York             1926    NY Rangers   \n",
       "3  Philadelphia             1967  Philadelphia   \n",
       "4    Pittsburgh             1967    Pittsburgh   \n",
       "\n",
       "                      officialSiteUrl  franchiseId  ...  division.nameShort  \\\n",
       "0     http://www.newjerseydevils.com/           23  ...               Metro   \n",
       "1    http://www.newyorkislanders.com/           22  ...               Metro   \n",
       "2      http://www.newyorkrangers.com/           10  ...               Metro   \n",
       "3  http://www.philadelphiaflyers.com/           16  ...               Metro   \n",
       "4      http://pittsburghpenguins.com/           17  ...               Metro   \n",
       "\n",
       "          division.link division.abbreviation conference.id conference.name  \\\n",
       "0  /api/v1/divisions/18                     M             6         Eastern   \n",
       "1  /api/v1/divisions/18                     M             6         Eastern   \n",
       "2  /api/v1/divisions/18                     M             6         Eastern   \n",
       "3  /api/v1/divisions/18                     M             6         Eastern   \n",
       "4  /api/v1/divisions/18                     M             6         Eastern   \n",
       "\n",
       "         conference.link franchise.franchiseId  franchise.teamName  \\\n",
       "0  /api/v1/conferences/6                    23              Devils   \n",
       "1  /api/v1/conferences/6                    22           Islanders   \n",
       "2  /api/v1/conferences/6                    10             Rangers   \n",
       "3  /api/v1/conferences/6                    16              Flyers   \n",
       "4  /api/v1/conferences/6                    17            Penguins   \n",
       "\n",
       "          franchise.link venue.id  \n",
       "0  /api/v1/franchises/23      NaN  \n",
       "1  /api/v1/franchises/22      NaN  \n",
       "2  /api/v1/franchises/10   5054.0  \n",
       "3  /api/v1/franchises/16   5096.0  \n",
       "4  /api/v1/franchises/17   5034.0  \n",
       "\n",
       "[5 rows x 29 columns]"
      ]
     },
     "execution_count": 2,
     "metadata": {},
     "output_type": "execute_result"
    }
   ],
   "source": [
    "teamdf = pd.read_csv(\"data/teams.csv\", index_col = 0)\n",
    "teamdf.head()"
   ]
  },
  {
   "cell_type": "code",
   "execution_count": 3,
   "metadata": {},
   "outputs": [
    {
     "data": {
      "text/plain": [
       "23"
      ]
     },
     "execution_count": 3,
     "metadata": {},
     "output_type": "execute_result"
    }
   ],
   "source": [
    "teamdf.loc[teamdf.name == \"Vancouver Canucks\", \"id\"].values[0]"
   ]
  },
  {
   "cell_type": "code",
   "execution_count": 4,
   "metadata": {},
   "outputs": [],
   "source": [
    "seasons = \"20182019\"\n",
    "r = requests.get(\"https://statsapi.web.nhl.com/api/v1/\" + \"schedule?season=\" + seasons + \"&gameType=R&site=en_nhl&teamId=\" + '23')\n",
    "data = r.json()\n",
    "df = pd.DataFrame(data[\"dates\"])\n",
    "dates = df.date.tolist()"
   ]
  },
  {
   "cell_type": "code",
   "execution_count": null,
   "metadata": {},
   "outputs": [],
   "source": []
  },
  {
   "cell_type": "code",
   "execution_count": 5,
   "metadata": {},
   "outputs": [],
   "source": [
    "gamedf = pd.DataFrame(df.games.tolist())\n",
    "gamedf.columns= ['games']"
   ]
  },
  {
   "cell_type": "code",
   "execution_count": 6,
   "metadata": {},
   "outputs": [],
   "source": [
    "gamedf = pd.json_normalize(gamedf.games)"
   ]
  },
  {
   "cell_type": "code",
   "execution_count": 7,
   "metadata": {},
   "outputs": [
    {
     "data": {
      "text/html": [
       "<div>\n",
       "<style scoped>\n",
       "    .dataframe tbody tr th:only-of-type {\n",
       "        vertical-align: middle;\n",
       "    }\n",
       "\n",
       "    .dataframe tbody tr th {\n",
       "        vertical-align: top;\n",
       "    }\n",
       "\n",
       "    .dataframe thead th {\n",
       "        text-align: right;\n",
       "    }\n",
       "</style>\n",
       "<table border=\"1\" class=\"dataframe\">\n",
       "  <thead>\n",
       "    <tr style=\"text-align: right;\">\n",
       "      <th></th>\n",
       "      <th>gamePk</th>\n",
       "      <th>link</th>\n",
       "      <th>gameType</th>\n",
       "      <th>season</th>\n",
       "      <th>status.abstractGameState</th>\n",
       "      <th>date</th>\n",
       "    </tr>\n",
       "  </thead>\n",
       "  <tbody>\n",
       "    <tr>\n",
       "      <th>0</th>\n",
       "      <td>2018020003</td>\n",
       "      <td>/api/v1/game/2018020003/feed/live</td>\n",
       "      <td>R</td>\n",
       "      <td>20182019</td>\n",
       "      <td>Final</td>\n",
       "      <td>2018-10-03</td>\n",
       "    </tr>\n",
       "    <tr>\n",
       "      <th>1</th>\n",
       "      <td>2018020028</td>\n",
       "      <td>/api/v1/game/2018020028/feed/live</td>\n",
       "      <td>R</td>\n",
       "      <td>20182019</td>\n",
       "      <td>Final</td>\n",
       "      <td>2018-10-06</td>\n",
       "    </tr>\n",
       "    <tr>\n",
       "      <th>2</th>\n",
       "      <td>2018020037</td>\n",
       "      <td>/api/v1/game/2018020037/feed/live</td>\n",
       "      <td>R</td>\n",
       "      <td>20182019</td>\n",
       "      <td>Final</td>\n",
       "      <td>2018-10-09</td>\n",
       "    </tr>\n",
       "    <tr>\n",
       "      <th>3</th>\n",
       "      <td>2018020053</td>\n",
       "      <td>/api/v1/game/2018020053/feed/live</td>\n",
       "      <td>R</td>\n",
       "      <td>20182019</td>\n",
       "      <td>Final</td>\n",
       "      <td>2018-10-11</td>\n",
       "    </tr>\n",
       "    <tr>\n",
       "      <th>4</th>\n",
       "      <td>2018020064</td>\n",
       "      <td>/api/v1/game/2018020064/feed/live</td>\n",
       "      <td>R</td>\n",
       "      <td>20182019</td>\n",
       "      <td>Final</td>\n",
       "      <td>2018-10-13</td>\n",
       "    </tr>\n",
       "  </tbody>\n",
       "</table>\n",
       "</div>"
      ],
      "text/plain": [
       "       gamePk                               link gameType    season  \\\n",
       "0  2018020003  /api/v1/game/2018020003/feed/live        R  20182019   \n",
       "1  2018020028  /api/v1/game/2018020028/feed/live        R  20182019   \n",
       "2  2018020037  /api/v1/game/2018020037/feed/live        R  20182019   \n",
       "3  2018020053  /api/v1/game/2018020053/feed/live        R  20182019   \n",
       "4  2018020064  /api/v1/game/2018020064/feed/live        R  20182019   \n",
       "\n",
       "  status.abstractGameState        date  \n",
       "0                    Final  2018-10-03  \n",
       "1                    Final  2018-10-06  \n",
       "2                    Final  2018-10-09  \n",
       "3                    Final  2018-10-11  \n",
       "4                    Final  2018-10-13  "
      ]
     },
     "execution_count": 7,
     "metadata": {},
     "output_type": "execute_result"
    }
   ],
   "source": [
    "gamedf = gamedf.loc[:, ['gamePk', 'link', 'gameType','season', 'status.abstractGameState']]\n",
    "gamedf['date'] = dates\n",
    "gamedf.head()\n"
   ]
  },
  {
   "cell_type": "code",
   "execution_count": 8,
   "metadata": {},
   "outputs": [],
   "source": [
    "gamelinks = gamedf.link.tolist()\n"
   ]
  },
  {
   "cell_type": "code",
   "execution_count": 9,
   "metadata": {},
   "outputs": [],
   "source": [
    "livedata = []\n",
    "\n",
    "for gamelink in gamelinks:\n",
    "    r = requests.get(\"https://statsapi.web.nhl.com\" + gamelink)\n",
    "    data = r.json()\n",
    "    livedata.append(data)\n"
   ]
  },
  {
   "cell_type": "code",
   "execution_count": 10,
   "metadata": {},
   "outputs": [
    {
     "data": {
      "text/plain": [
       "'\\ngamedata goes:\\n{\\ncopyright\\ngamePk\\nlink\\nmetadata\\ngameData: {game, datetime, status, teams, players}\\n**liveData**: \\n}\\n\\nliveData goes: \\n{\\nplays: {}\\n}'"
      ]
     },
     "execution_count": 10,
     "metadata": {},
     "output_type": "execute_result"
    }
   ],
   "source": [
    "'''\n",
    "gamedata goes:\n",
    "{\n",
    "copyright\n",
    "gamePk\n",
    "link\n",
    "metadata\n",
    "gameData: {game, datetime, status, teams, players}\n",
    "**liveData**: \n",
    "}\n",
    "\n",
    "liveData goes: \n",
    "{\n",
    "plays: {}\n",
    "}'''\n",
    "\n"
   ]
  },
  {
   "cell_type": "code",
   "execution_count": 11,
   "metadata": {},
   "outputs": [],
   "source": [
    "# Initialise the player dictionary\n",
    "full_name = 'Brock Boeser'\n",
    "event_types = ['Shot','Goal']\n",
    "player_data = {};\n",
    "player_data['Shot'] = {};\n",
    "player_data['Shot']['x'] = [];\n",
    "player_data['Shot']['y'] = [];\n",
    "player_data['Goal'] = {};\n",
    "player_data['Goal']['x'] = [];\n",
    "player_data['Goal']['y'] = [];"
   ]
  },
  {
   "cell_type": "code",
   "execution_count": 20,
   "metadata": {},
   "outputs": [],
   "source": [
    "plays = 0\n",
    "for data in livedata:\n",
    "    if \"liveData\" not in data:\n",
    "        continue\n",
    "        \n",
    "    # extract from playbyplay livedata\n",
    "    plays = data['liveData']['plays']['allPlays']\n",
    "    \n",
    "    for play in plays:\n",
    "        if \"players\" in play:\n",
    "            for player in play[\"players\"]:\n",
    "                if player[\"player\"][\"fullName\"] in [full_name] and player[\"playerType\"] in [\"Shooter\", \"Scorer\"]:\n",
    "                    \n",
    "                    for event in event_types:\n",
    "                        \n",
    "                        #if play contains one of the events\n",
    "                        if play[\"result\"][\"event\"] in [event]:\n",
    "                            \n",
    "                            if \"x\" in play[\"coordinates\"]:\n",
    "                                player_data[event][\"x\"].append(play[\"coordinates\"][\"x\"])\n",
    "                                player_data[event][\"y\"].append(play[\"coordinates\"][\"y\"])\n",
    "                                                             "
   ]
  },
  {
   "cell_type": "code",
   "execution_count": 13,
   "metadata": {},
   "outputs": [
    {
     "data": {
      "text/plain": [
       "result         {'event': 'Shot', 'eventCode': 'STL237', 'even...\n",
       "about          {'eventIdx': 137, 'eventId': 237, 'period': 2,...\n",
       "coordinates                              {'x': -37.0, 'y': -6.0}\n",
       "players        [{'player': {'id': 8478407, 'fullName': 'Vince...\n",
       "team           {'id': 19, 'name': 'St. Louis Blues', 'link': ...\n",
       "Name: 137, dtype: object"
      ]
     },
     "execution_count": 13,
     "metadata": {},
     "output_type": "execute_result"
    }
   ],
   "source": [
    "playdf = pd.DataFrame(plays)\n",
    "pd.set_option('display.max_rows', None)\n",
    "playdf.iloc[137]"
   ]
  },
  {
   "cell_type": "code",
   "execution_count": 14,
   "metadata": {},
   "outputs": [
    {
     "data": {
      "text/plain": [
       "215"
      ]
     },
     "execution_count": 14,
     "metadata": {},
     "output_type": "execute_result"
    }
   ],
   "source": [
    "# Get the total number of shots made by the player\n",
    "player_total_shots = len(player_data['Shot']['x']) + len(player_data['Goal']['x'])\n",
    "player_total_shots"
   ]
  },
  {
   "cell_type": "code",
   "execution_count": 15,
   "metadata": {},
   "outputs": [],
   "source": [
    "player_data_normalized = player_data\n",
    "for i, x in enumerate(player_data_normalized['Shot']['x']):\n",
    "    if x < 0:\n",
    "        player_data_normalized['Shot']['x'][i] = player_data_normalized['Shot']['x'][i] * -1\n",
    "        player_data_normalized['Shot']['y'][i] = player_data_normalized['Shot']['y'][i] * -1\n",
    "        \n",
    "for i, x in enumerate(player_data_normalized['Goal']['x']):\n",
    "    if x < 0:\n",
    "        player_data_normalized['Goal']['x'][i] = player_data_normalized['Goal']['x'][i] * -1\n",
    "        player_data_normalized['Goal']['y'][i] = player_data_normalized['Goal']['y'][i] * -1\n"
   ]
  },
  {
   "cell_type": "code",
   "execution_count": 16,
   "metadata": {},
   "outputs": [
    {
     "data": {
      "text/plain": [
       "0.13023255813953488"
      ]
     },
     "execution_count": 16,
     "metadata": {},
     "output_type": "execute_result"
    }
   ],
   "source": [
    "# Find the players goal score percentage\n",
    "player_goal_pct = len(player_data['Goal']['x'])/player_total_shots\n",
    "player_goal_pct"
   ]
  },
  {
   "cell_type": "code",
   "execution_count": 17,
   "metadata": {},
   "outputs": [],
   "source": [
    "# To keep the aspect ration correct we use a square figure size\n",
    "xbnds = np.array([-100.,100.0])\n",
    "ybnds = np.array([-100,100])\n",
    "extent = [xbnds[0],xbnds[1],ybnds[0],ybnds[1]]\n",
    "# We are going to bin in 30 unit increments.  It is fun to play with this!  \n",
    "gridsize= 30;mincnt=0"
   ]
  },
  {
   "cell_type": "code",
   "execution_count": 18,
   "metadata": {},
   "outputs": [
    {
     "data": {
      "image/png": "[encoded data removed]",
      "text/plain": [
       "<Figure size 432x288 with 1 Axes>"
      ]
     },
     "metadata": {
      "needs_background": "light"
     },
     "output_type": "display_data"
    },
    {
     "data": {
      "image/png": "[encoded data removed]",
      "text/plain": [
       "<Figure size 432x288 with 1 Axes>"
      ]
     },
     "metadata": {
      "needs_background": "light"
     },
     "output_type": "display_data"
    }
   ],
   "source": [
    "fig, ax = plt.subplots()\n",
    "img = plt.imread(\"rink.png\")\n",
    "ax.imshow(img, extent = [0, 100, -42.5, 42.5])\n",
    "plt.scatter(player_data['Shot']['x'], player_data['Shot'][\"y\"], c = \"red\")\n",
    "plt.scatter(player_data['Goal']['x'], player_data['Goal'][\"y\"], c = \"red\")\n",
    "plt.title(f\"Shots of {full_name}\")\n",
    "plt.show()\n",
    "\n",
    "fig, ax = plt.subplots()\n",
    "img = plt.imread(\"rink.png\")\n",
    "ax.imshow(img, extent = [0, 100, -42.5, 42.5])\n",
    "plt.scatter(player_data['Goal']['x'], player_data['Goal'][\"y\"], c = \"green\")\n",
    "plt.title(f\"Goals of {full_name}: all {len(player_data['Goal']['x'])} goals\")\n",
    "plt.show()\n"
   ]
  },
  {
   "cell_type": "code",
   "execution_count": 19,
   "metadata": {},
   "outputs": [
    {
     "data": {
      "text/plain": [
       "<seaborn.axisgrid.JointGrid at 0x19d218a03a0>"
      ]
     },
     "execution_count": 19,
     "metadata": {},
     "output_type": "execute_result"
    },
    {
     "data": {
      "image/png": "[encoded data removed]",
      "text/plain": [
       "<Figure size 432x432 with 3 Axes>"
      ]
     },
     "metadata": {
      "needs_background": "light"
     },
     "output_type": "display_data"
    },
    {
     "data": {
      "image/png": "[encoded data removed]",
      "text/plain": [
       "<Figure size 432x432 with 3 Axes>"
      ]
     },
     "metadata": {
      "needs_background": "light"
     },
     "output_type": "display_data"
    }
   ],
   "source": [
    "sns.jointplot(x=\"x\", y=\"y\", data=player_data_normalized['Shot'],kind=\"kde\")\n",
    "sns.jointplot(x=\"x\", y=\"y\", data=player_data_normalized['Goal'],kind=\"kde\")\n"
   ]
  },
  {
   "cell_type": "code",
   "execution_count": null,
   "metadata": {},
   "outputs": [],
   "source": []
  },
  {
   "cell_type": "code",
   "execution_count": null,
   "metadata": {},
   "outputs": [],
   "source": []
  }
 ],
 "metadata": {
  "kernelspec": {
   "display_name": "Python 3",
   "language": "python",
   "name": "python3"
  },
  "language_info": {
   "codemirror_mode": {
    "name": "ipython",
    "version": 3
   },
   "file_extension": ".py",
   "mimetype": "text/x-python",
   "name": "python",
   "nbconvert_exporter": "python",
   "pygments_lexer": "ipython3",
   "version": "3.8.3"
  }
 },
 "nbformat": 4,
 "nbformat_minor": 4
}
